{
 "cells": [
  {
   "cell_type": "markdown",
   "metadata": {
    "slideshow": {
     "slide_type": "slide"
    }
   },
   "source": [
    "# ETHZ: 227-0966-00L\n",
    "# Quantitative Big Imaging\n",
    "# April 12, 2018\n",
    "\n",
    "## Advanced Shape and Texture"
   ]
  },
  {
   "cell_type": "code",
   "execution_count": 2,
   "metadata": {
    "slideshow": {
     "slide_type": "skip"
    }
   },
   "outputs": [],
   "source": [
    "import seaborn as sns\n",
    "import matplotlib.pyplot as plt\n",
    "plt.rcParams[\"figure.figsize\"] = (8, 8)\n",
    "plt.rcParams[\"figure.dpi\"] = 150\n",
    "plt.rcParams[\"font.size\"] = 14\n",
    "plt.rcParams['font.family'] = ['sans-serif']\n",
    "plt.rcParams['font.sans-serif'] = ['DejaVu Sans']\n",
    "plt.style.use('ggplot')\n",
    "sns.set_style(\"whitegrid\", {'axes.grid': False})"
   ]
  },
  {
   "cell_type": "markdown",
   "metadata": {
    "slideshow": {
     "slide_type": "slide"
    }
   },
   "source": [
    "# Literature / Useful References\n",
    "\n",
    "- Jean Claude, Morphometry with R\n",
    "- [Online](http://link.springer.com/book/10.1007%2F978-0-387-77789-4) through ETHZ\n",
    "- [Buy it](http://www.amazon.com/Morphometrics-R-Use-Julien-Claude/dp/038777789X)\n",
    "- John C. Russ, “The Image Processing Handbook”,(Boca Raton, CRC Press)\n",
    "- Available [online](http://dx.doi.org/10.1201/9780203881095) within domain ethz.ch (or proxy.ethz.ch / public VPN) \n",
    "- Principal Component Analysis\n",
    " - Venables, W. N. and B. D. Ripley (2002). Modern Applied Statistics with S, Springer-Verlag\n",
    "- Shape Tensors\n",
    " - http://www.cs.utah.edu/~gk/papers/vissym04/\n",
    " - Doube, M.,et al. (2010). BoneJ: Free and extensible bone image analysis in ImageJ. Bone, 47, 1076–9. doi:10.1016/j.bone.2010.08.023\n",
    " - Mader, K. , et al. (2013). A quantitative framework for the 3D characterization of the osteocyte lacunar system. Bone, 57(1), 142–154. doi:10.1016/j.bone.2013.06.026\n",
    " \n",
    " - Wilhelm Burger, Mark Burge. Principles of Digital Image Processing:\n",
    "  Core Algorithms. Springer-Verlag, London, 2009.\n",
    " -  B. Jähne. Digital Image Processing. Springer-Verlag,\n",
    "           Berlin-Heidelberg, 6. edition, 2005.\n",
    " -  T. H. Reiss. Recognizing Planar Objects Using Invariant Image\n",
    "           Features, from Lecture notes in computer science, p. 676. Springer,\n",
    "           Berlin, 1993.\n",
    " - http://en.wikipedia.org/wiki/Image_moment\n",
    "    \n",
    " "
   ]
  },
  {
   "cell_type": "markdown",
   "metadata": {
    "slideshow": {
     "slide_type": "slide"
    }
   },
   "source": [
    "# Interfaces / Surfaces\n",
    "\n",
    "Many physical and chemical processes occur at surfaces and interfaces and consequently these structures are important in material science and biology. For this lecture surface and interface will be used interchangebly and refers to the boundary between two different materials (calcified bone and soft tissue, magma and water, liquid and gas) Through segmentation we have identified the unique phases in the sample under investigation. \n",
    "\n",
    "- Segmentation identifying volumes (3D) or areas (2D)\n",
    "- Interfaces are one dimension lower corresponding to surface area (3D) or perimeter (2D)\n",
    "- Interfaces are important for \n",
    " - connectivity of cell networks, particularly neurons\n",
    " - material science processes like coarsening or rheological behavior\n",
    " - chemical processes (surface-bound diffusion, catalyst action)"
   ]
  },
  {
   "cell_type": "markdown",
   "metadata": {
    "slideshow": {
     "slide_type": "subslide"
    }
   },
   "source": [
    "# Surface Area / Perimeter\n",
    "\n",
    "We see that the dilation and erosion affects are strongly related to the surface area of an object: the more surface area the larger the affect of a single dilation or erosion step. "
   ]
  },
  {
   "cell_type": "markdown",
   "metadata": {
    "slideshow": {
     "slide_type": "slide"
    }
   },
   "source": [
    "# Meshing\n",
    "\n",
    "\n",
    "Constructing a mesh for an image provides very different information than the image data itself. Most crucially this comes when looking at physical processes like deformation.\n",
    "\n",
    "While the images are helpful for visualizing we rarely have models for quantifying how difficult it is to turn a pixel __off__\n",
    "\n",
    "If the image is turned into a mesh we now have a list of vertices and edges. For these vertices and edges we can define forces. For example when looking at stress-strain relationships in mechanics using Hooke's Model \n",
    "$$ \\vec{F}=k (\\vec{x}_0-\\vec{x}) $$ \n",
    "the force needed to stretch one of these edges is proportional to how far it is stretched. "
   ]
  },
  {
   "cell_type": "markdown",
   "metadata": {
    "slideshow": {
     "slide_type": "slide"
    }
   },
   "source": [
    "# Marching Cubes\n",
    "\n",
    "### Why\n",
    "Voxels are very poor approximations for the surface and are very rough (they are either normal to the x, y, or z axis and nothing between). Because of their inherently orthogonal surface normals, any analysis which utilizes the surface normal to calculate another value (growth, curvature, etc) is going to be very inaccurate at best and very wrong at worst.\n",
    "\n",
    "### [How](http://en.wikipedia.org/wiki/Marching_cubes)\n",
    "The image is processed one voxel at a time and the neighborhood (not quite the same is the morphological definition) is checked at every voxel. From this configuration of values, faces are added to the mesh to incorporate the most simple surface which would explain the values. \n",
    "\n",
    "[Marching tetrahedra](http://en.wikipedia.org/wiki/Marching_tetrahedra) is for some applications a better suited approach"
   ]
  },
  {
   "cell_type": "markdown",
   "metadata": {
    "slideshow": {
     "slide_type": "slide"
    }
   },
   "source": []
  }
 ],
 "metadata": {
  "celltoolbar": "Slideshow",
  "kernelspec": {
   "display_name": "Python 3",
   "language": "python",
   "name": "python3"
  },
  "language_info": {
   "codemirror_mode": {
    "name": "ipython",
    "version": 3
   },
   "file_extension": ".py",
   "mimetype": "text/x-python",
   "name": "python",
   "nbconvert_exporter": "python",
   "pygments_lexer": "ipython3",
   "version": "3.6.4"
  },
  "livereveal": {
   "autolaunch": true,
   "scroll": true
  }
 },
 "nbformat": 4,
 "nbformat_minor": 2
}
