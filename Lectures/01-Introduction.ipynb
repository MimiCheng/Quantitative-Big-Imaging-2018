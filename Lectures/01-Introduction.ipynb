{
 "cells": [
  {
   "cell_type": "markdown",
   "metadata": {
    "slideshow": {
     "slide_type": "slide"
    }
   },
   "source": [
    "\n",
    "# ETHZ: 227-0966-00L\n",
    "# Quantitative Big Imaging\n",
    "# February 22, 2018\n",
    "\n",
    "## Introduction and Overview\n"
   ]
  },
  {
   "cell_type": "markdown",
   "metadata": {
    "slideshow": {
     "slide_type": "subslide"
    }
   },
   "source": [
    "## Overview\n",
    "\n",
    "- Who are we?\n",
    "- Who are you?\n",
    " - What is expected?\n",
    "- __Why does this class exist?__\n",
    " - Collection\n",
    " - Changing computing (Parallel / Cloud)\n",
    " - Course outline"
   ]
  },
  {
   "cell_type": "markdown",
   "metadata": {
    "slideshow": {
     "slide_type": "subslide"
    }
   },
   "source": [
    "## Overivew\n",
    "\n",
    "- What is an image?\n",
    "- Where do images come from?\n",
    "- Science and Reproducibility\n",
    "- Workflows"
   ]
  },
  {
   "cell_type": "markdown",
   "metadata": {
    "slideshow": {
     "slide_type": "slide"
    }
   },
   "source": [
    "# Who are we?\n",
    "\n",
    "\n",
    "## Kevin Mader (mader@biomed.ee.ethz.ch)\n",
    " - CTO at __4Quant__ for Big Image Analytics (ETH Spin-off)\n",
    " - __Lecturer__ at ETH Zurich\n",
    " - Formerly __Postdoc__ in the X-Ray Microscopy Group at ETH Zurich (2013-2015)\n",
    " - PhD Student at Swiss Light Source at Paul Scherrer Institute (2008-2012)\n",
    "\n",
    "- ![Kevin Mader](https://avatars0.githubusercontent.com/u/116120?s=460&v=4)\n",
    "\n",
    "## Amogha Pandeshwar (Amogha.Pandeshwar@psi.ch)\n",
    " - Exercise assistance\n",
    " - __PhD Student__ in the X-Ray Microscopy Group at ETH Zurich and Swiss Light Source at Paul Scherrer Institute\n",
    "\n",
    "- ![Yannis](https://www.psi.ch/lsb/PeopleUebersichtsTabelle/APandeshwar_small.jpg)"
   ]
  },
  {
   "cell_type": "markdown",
   "metadata": {
    "slideshow": {
     "slide_type": "subslide"
    }
   },
   "source": [
    "# Guest Lecturers\n",
    "\n",
    "## Anders Kaestner, PhD (anders.kaestner@psi.ch)\n",
    " - __Group Leader__ at the ICON Beamline at the SINQ (Neutron Source) at Paul Scherrer Institute\n",
    "\n",
    "![Anders Kaestner](../common/figures/anders.png)\n",
    "\n",
    "## Michael Prummer, PhD (prummer@nexus.ethz.ch)\n",
    "\n",
    "- Biostatistician at NEXUS Personalized Health Technol.\n",
    "- Previously Senior Scientist at F. Hoffmann-La Roche Ltd., Basel, Switzerland.\n",
    " - Pharma Research & Early Development (pRED), Discovery Technologies\n",
    " - Phenotypic Drug Discovery & Target Identification.\n",
    " - Topic: High Content Screening (HCS), Image analysis, Biostatistics, Image Management System.\n",
    "\n",
    "![Michael Prummer](http://www.nexus.ethz.ch/content/specialinterest/dual/nexus/en/people/person-detail.person_image.jpeg?persid=90104)\n"
   ]
  },
  {
   "cell_type": "markdown",
   "metadata": {
    "slideshow": {
     "slide_type": "slide"
    }
   },
   "source": [
    "## Who are you?\n",
    "\n",
    "\n",
    "### A wide spectrum of backgrounds\n",
    "- Biomedical Engineers, Physicists, Chemists, Art History Researchers, Mechanical Engineers, and Computer Scientists\n",
    "\n",
    "### A wide range of skills\n",
    "- I think I've heard of Matlab before $\\rightarrow$ I write template C++ code and hand optimize it afterwards"
   ]
  },
  {
   "cell_type": "markdown",
   "metadata": {
    "slideshow": {
     "slide_type": "slide"
    }
   },
   "source": [
    "# So how will this ever work?\n",
    "\n",
    "## Adaptive assignments\n",
    "\n",
    "### Conceptual, graphical assignments with practical examples\n",
    "  - Emphasis on chosing correct steps and understanding workflow\n",
    "\n",
    "### Opportunities to create custom implementations, plugins, and perform more complicated analysis on larger datasets if interested\n",
    "  - Emphasis on performance, customizing analysis, and scalability"
   ]
  },
  {
   "cell_type": "markdown",
   "metadata": {
    "slideshow": {
     "slide_type": "slide"
    }
   },
   "source": [
    "# Course Expectations\n",
    "\n",
    "## Exercises\n",
    " - Usually 1 set per lecture\n",
    " - Optional (but recommended!)\n",
    " - Easy - using GUIs (KNIME and ImageJ) and completing Matlab Scripts (just lecture 2)\n",
    " - Advanced - Writing Python, Java, Scala, ...\n",
    "\n",
    "## Science Project\n",
    "- Optional (but strongly recommended)\n",
    "- Applying Techniques to answer scientific question!\n",
    " - Ideally use on a topic relevant for your current project, thesis, or personal activities\n",
    " - or choose from one of ours (will be online, soon)\n",
    "- Present approach, analysis, and results"
   ]
  },
  {
   "cell_type": "markdown",
   "metadata": {
    "slideshow": {
     "slide_type": "slide"
    }
   },
   "source": [
    "# Literature / Useful References\n",
    "\n",
    "\n",
    "## General Material\n",
    "- Jean Claude, Morphometry with R\n",
    " - [Online](http://link.springer.com/book/10.1007%2F978-0-387-77789-4) through ETHZ\n",
    " - [Buy it](http://www.amazon.com/Morphometrics-R-Use-Julien-Claude/dp/038777789X)\n",
    "- John C. Russ, “The Image Processing Handbook”,(Boca Raton, CRC Press)\n",
    " - Available [online](http://dx.doi.org/10.1201/9780203881095) within domain ethz.ch (or proxy.ethz.ch / public VPN)\n",
    "- J. Weickert, Visualization and Processing of Tensor Fields\n",
    " - [Online](http://books.google.ch/books?id=ScLxPORMob4C&lpg=PA220&ots=mYIeQbaVXP&dq=&pg=PA220#v=onepage&q&f=false)"
   ]
  },
  {
   "cell_type": "markdown",
   "metadata": {
    "slideshow": {
     "slide_type": "subslide"
    }
   },
   "source": [
    "## Today's Material\n",
    "\n",
    "\n",
    "- Imaging\n",
    " - [ImageJ and SciJava](http://www.slideshare.net/CurtisRueden/imagej-and-the-scijava-software-stack)\n",
    "- Cloud Computing\n",
    " - [The Case for Energy-Proportional Computing](http://www-inst.eecs.berkeley.edu/~cs61c/sp14/) _ Luiz André Barroso, Urs Hölzle, IEEE Computer, December 2007_\n",
    " - [Concurrency](www.gotw.ca/publications/concurrency-ddj.htm)\n",
    "- Reproducibility\n",
    " - [Trouble at the lab](http://www.economist.com/news/briefing/21588057-scientists-think-science-self-correcting-alarming-degree-it-not-trouble) _Scientists like to think of science as self-correcting. To an alarming degree, it is not_\n",
    " - [Why is reproducible research important?](http://simplystatistics.org/2014/06/06/the-real-reason-reproducible-research-is-important/) _The Real Reason Reproducible Research is Important_\n",
    " - [Science Code Manifesto](http://software-carpentry.org/blog/2011/10/the-science-code-manifestos-five-cs.html)\n",
    " - [Reproducible Research Class](https://www.coursera.org/course/repdata) @ Johns Hopkins University"
   ]
  },
  {
   "cell_type": "markdown",
   "metadata": {
    "slideshow": {
     "slide_type": "slide"
    }
   },
   "source": [
    "# Motivation\n",
    "\n",
    "![Crazy Workflow](../common/figures/crazyworkflow.png)\n",
    "- To understand what, why and how from the moment an image is produced until it is finished (published, used in a report, …)\n",
    "- To learn how to go from one analysis on one image to 10, 100, or 1000 images (without working 10, 100, or 1000X harder)"
   ]
  },
  {
   "cell_type": "markdown",
   "metadata": {
    "slideshow": {
     "slide_type": "subslide"
    }
   },
   "source": [
    "- Detectors are getting bigger and faster constantly\n",
    "- Todays detectors are really fast\n",
    " - 2560 x 2160 images @ 1500+ times a second = 8GB/s\n",
    "- Matlab / Avizo / Python / … are saturated after 60 seconds\n",
    "- A single camera\n",
    " - [More information per day than Facebook](http://news.cnet.com/8301-1023_3-57498531-93/facebook-processes-more-than-500-tb-of-data-daily/)\n",
    " - [Three times as many images per second as Instagram](http://techcrunch.com/2013/01/17/instagram-reports-90m-monthly-active-users-40m-photos-per-day-and-8500-likes-per-second/)"
   ]
  },
  {
   "cell_type": "markdown",
   "metadata": {
    "slideshow": {
     "slide_type": "subslide"
    }
   },
   "source": [
    "### X-Ray\n",
    " - SRXTM images at (>1000fps) → 8GB/s\n",
    " - cSAXS diffraction patterns at 30GB/s\n",
    " - Nanoscopium Beamline, 10TB/day, 10-500GB file sizes\n",
    "\n",
    "### Optical\n",
    " - Light-sheet microscopy (see talk of Jeremy Freeman) produces images → 500MB/s\n",
    " - High-speed confocal images at (>200fps) → 78Mb/s\n",
    "\n",
    "### Personal\n",
    " - GoPro 4 Black - 60MB/s (3840 x 2160 x 30fps) for $600\n",
    " - [fps1000](https://www.kickstarter.com/projects/1623255426/fps1000-the-low-cost-high-frame-rate-camera) - 400MB/s (640 x 480 x 840 fps) for $400"
   ]
  },
  {
   "cell_type": "markdown",
   "metadata": {
    "slideshow": {
     "slide_type": "slide"
    }
   },
   "source": [
    "## Motivation\n",
    "\n",
    "\n",
    "1. __Experimental Design__ finding the right technique, picking the right dyes and samples has stayed relatively consistent, better techniques lead to more demanding scientits.\n",
    "\n",
    "2. __Management__ storing, backing up, setting up databases, these processes have become easier and more automated as data magnitudes have increased\n",
    "\n",
    "3. __Measurements__ the actual acquisition speed of the data has increased wildly due to better detectors, parallel measurement, and new higher intensity sources\n",
    "\n",
    "4. __Post Processing__ this portion has is the most time-consuming and difficult and has seen minimal improvements over the last years\n",
    "\n",
    "----"
   ]
  },
  {
   "cell_type": "markdown",
   "metadata": {
    "Rmd_chunk_options": "time-figure, fig.width=12, fig.height=8",
    "autoscroll": false,
    "collapsed": true,
    "slideshow": {
     "slide_type": "subslide"
    }
   },
   "source": [
    "![Experiment Breakdown](../common/figures/experiment-breakdown.png)"
   ]
  },
  {
   "cell_type": "markdown",
   "metadata": {
    "slideshow": {
     "slide_type": "slide"
    }
   },
   "source": [
    "\n",
    "## How much is a TB, really?\n",
    "\n",
    "\n",
    "If __you__ looked at one 1000 x 1000 sized image\n"
   ]
  },
  {
   "cell_type": "code",
   "execution_count": 1,
   "metadata": {
    "autoscroll": false,
    "slideshow": {
     "slide_type": "fragment"
    }
   },
   "outputs": [
    {
     "data": {
      "text/plain": [
       "<matplotlib.image.AxesImage at 0x81a14cd68>"
      ]
     },
     "execution_count": 1,
     "metadata": {},
     "output_type": "execute_result"
    },
    {
     "data": {
      "image/png": "[encoded data removed]",
      "text/plain": [
       "<matplotlib.figure.Figure at 0x10638ff98>"
      ]
     },
     "metadata": {},
     "output_type": "display_data"
    }
   ],
   "source": [
    "%matplotlib inline\n",
    "import matplotlib.pyplot as plt\n",
    "import numpy as np\n",
    "\n",
    "plt.matshow(np.random.uniform(size = (1000, 1000)), \n",
    "           cmap = 'viridis')"
   ]
  },
  {
   "cell_type": "markdown",
   "metadata": {
    "slideshow": {
     "slide_type": "fragment"
    }
   },
   "source": [
    "every second, it would take you\n"
   ]
  },
  {
   "cell_type": "code",
   "execution_count": null,
   "metadata": {
    "Rmd_chunk_options": "results='asis'",
    "autoscroll": false,
    "slideshow": {
     "slide_type": "fragment"
    }
   },
   "outputs": [
    {
     "name": "stdout",
     "output_type": "stream",
     "text": [
      "138.9 seconds to view a terabyte\n"
     ]
    }
   ],
   "source": [
    "# assuming 16 bit images and a 'metric' terabyte\n",
    "time_per_tb=1e12/(1000*1000*16/8) / (60*60)\n",
    "print(\"%04.1f seconds to view a terabyte\" % (time_per_tb))"
   ]
  },
  {
   "cell_type": "markdown",
   "metadata": {
    "slideshow": {
     "slide_type": "slide"
    }
   },
   "source": [
    "## Overwhelmed\n",
    "\n",
    "- Count how many cells are in the bone slice\n",
    "- Ignore the ones that are ‘too big’ or shaped ‘strangely’\n",
    "- Are there more on the right side or left side?\n",
    "- Are the ones on the right or left bigger, top or bottom?\n",
    "\n",
    "\n",
    "![cells in bone tissue](../common/figures/bone-cells.png)"
   ]
  },
  {
   "cell_type": "markdown",
   "metadata": {},
   "source": [
    "## More overwhelmed\n",
    "\n",
    "- Do it all over again for 96 more samples, this time with 2000 slices instead of just one!\n",
    "\n",
    "\n",
    "![more samples](../common/figures/96-samples.png)"
   ]
  },
  {
   "cell_type": "markdown",
   "metadata": {
    "slideshow": {
     "slide_type": "subslide"
    }
   },
   "source": [
    "## Bring on the pain\n",
    "\n",
    "- Now again with 1090 samples!\n",
    "\n",
    "\n",
    "![even more samples](../common/figures/1090-samples.png)"
   ]
  },
  {
   "cell_type": "markdown",
   "metadata": {},
   "source": [
    "## It gets better\n",
    "\n",
    "\n",
    "- Those metrics were quantitative and could be easily visually extracted from the images\n",
    "- What happens if you have _softer_ metrics\n",
    "\n",
    "\n",
    "![alignment](../common/figures/alignment-figure.png)\n",
    "\n",
    "\n",
    "- How aligned are these cells?\n",
    "- Is the group on the left more or less aligned than the right?\n",
    "- errr?"
   ]
  },
  {
   "cell_type": "markdown",
   "metadata": {},
   "source": [
    "## Dynamic Information\n",
    "\n",
    "<video controls>\n",
    "  <source src=\"../common/movies/dk31-plat.avi\" type=\"video/avi\">\n",
    "Your browser does not support the video tag.\n",
    "</video>\n",
    "\n",
    "\n",
    "\n",
    "- How many bubbles are here?\n",
    "- How fast are they moving?\n",
    "- Do they all move the same speed?\n",
    "- Do bigger bubbles move faster?\n",
    "- Do bubbles near the edge move slower?\n",
    "- Are they rearranging?"
   ]
  },
  {
   "cell_type": "markdown",
   "metadata": {
    "slideshow": {
     "slide_type": "slide"
    }
   },
   "source": [
    "# Computing has changed: Parallel\n",
    "\n",
    "\n",
    "## Moores Law\n",
    "$$ \\textrm{Transistors} \\propto 2^{T/(\\textrm{18 months})} $$"
   ]
  },
  {
   "cell_type": "code",
   "execution_count": null,
   "metadata": {
    "collapsed": true,
    "slideshow": {
     "slide_type": "subslide"
    }
   },
   "outputs": [],
   "source": [
    "%matplotlib inline\n",
    "# stolen from https://gist.github.com/humberto-ortiz/de4b3a621602b78bf90d\n",
    "import pandas as pd\n",
    "import matplotlib.pyplot as plt\n",
    "from io import StringIO\n",
    "moores_txt=[\"Id Name  Year  Count(1000s)  Clock(MHz)\\n\",\n",
    "        \"0            MOS65XX  1975           3.51           14\\n\",\n",
    "        \"1          Intel8086  1978          29.00           10\\n\",\n",
    "        \"2          MIPSR3000  1988         120.00           33\\n\",\n",
    "        \"3           AMDAm486  1993        1200.00           40\\n\",\n",
    "        \"4        NexGenNx586  1994        3500.00          111\\n\",\n",
    "        \"5          AMDAthlon  1999       37000.00         1400\\n\",\n",
    "        \"6   IntelPentiumIII  1999       44000.00         1400\\n\",\n",
    "        \"7         PowerPC970  2002       58000.00         2500\\n\",\n",
    "        \"8       AMDAthlon64  2003      243000.00         2800\\n\",\n",
    "        \"9    IntelCore2Duo  2006      410000.00         3330\\n\",\n",
    "        \"10         AMDPhenom  2007      450000.00         2600\\n\",\n",
    "        \"11      IntelCorei7  2008     1170000.00         3460\\n\",\n",
    "        \"12      IntelCorei5  2009      995000.00         3600\"]\n",
    "\n",
    "sio_table = StringIO(''.join(moores_txt))\n",
    "moore_df = pd.read_table(sio_table, sep = '\\s+', index_col = 0)\n",
    "fig, ax1 = plt.subplots(1,1, figsize = (8, 4))\n",
    "ax1.semilogy(moore_df['Year'], moore_df['Count(1000s)'], 'b.-', label = '1000s of transitiors')\n",
    "ax1.semilogy(moore_df['Year'], moore_df['Clock(MHz)'], 'r.-', label = 'Clockspeed (MHz)')\n",
    "ax1.legend(loc = 2)"
   ]
  },
  {
   "cell_type": "markdown",
   "metadata": {
    "slideshow": {
     "slide_type": "subslide"
    }
   },
   "source": [
    "<small>_Based on data from https://gist.github.com/humberto-ortiz/de4b3a621602b78bf90d_</small>\n",
    "\n",
    "----\n",
    "\n",
    "There are now many more transistors inside a single computer but the processing speed hasn't increased. How can this be?\n",
    "\n",
    "- Multiple Core\n",
    " - Many machines have multiple cores for each processor which can perform tasks independently\n",
    "- Multiple CPUs\n",
    " - More than one chip is commonly present\n",
    "- New modalities\n",
    "  - GPUs provide many cores which operate at slow speed\n",
    "\n",
    "### Parallel Code is important"
   ]
  },
  {
   "cell_type": "markdown",
   "metadata": {
    "slideshow": {
     "slide_type": "slide"
    }
   },
   "source": [
    "## Computing has changed: Cloud"
   ]
  },
  {
   "cell_type": "markdown",
   "metadata": {
    "Rmd_chunk_options": "cloud-costs",
    "autoscroll": false,
    "collapsed": true,
    "slideshow": {
     "slide_type": "subslide"
    }
   },
   "source": [
    "```{r}\n",
    "compCost<-3999.99 # http://www.bestbuy.com/site/cybertronpc-desktop-intel-core-i7-64gb-memory-2tb-hdd-120gb-solid-state-drive-120gb-solid-state-drive-black-blue/6357048.p?id=1219209052767&skuId=6357048\n",
    "compPowerRaw<-190  #Watts http://www.eu-energystar.org/en/en_008.shtml#use\n",
    "energyPriceStd<-0.143 # Eu/KWHr http://www.eu-energystar.org/en/en_008.shtml#use\n",
    "energyPrice<-energyPriceStd/1000*1.2 # $ / Whr\n",
    "cloudPeakCost<-0.780\n",
    "cloudSpotCost<-0.097\n",
    "\n",
    "cloudCost<-function(hours,peakRatio=1)\n",
    "  hours*peakRatio*cloudPeakCost+hours*(1-peakRatio)*cloudSpotCost\n",
    "localCost<-function(hours)\n",
    "  compCost+energyPrice*compPowerRaw*hours\n",
    "```"
   ]
  },
  {
   "cell_type": "markdown",
   "metadata": {
    "slideshow": {
     "slide_type": "subslide"
    }
   },
   "source": [
    "\n",
    "- Computer, servers, workstations are wildly underused (majority are <50%)\n",
    "- Buying a big computer that sits idle most of the time is a waste of money\n",
    "\n",
    "<small>http://www-inst.eecs.berkeley.edu/~cs61c/sp14/\n",
    "“The Case for Energy-Proportional Computing,” Luiz André Barroso, Urs Hölzle, IEEE Computer, December 2007</small>\n",
    "\n",
    "![cloud services](../common/figures/cloud-services.png)\n",
    "\n",
    "----\n",
    "\n",
    "- Traditionally the most important performance criteria was time, how fast can it be done\n",
    "- With Platform as a service servers can be rented instead of bought\n",
    "- Speed is still important but using cloud computing $ / Sample is the real metric\n",
    "- In Switzerland a PhD student if 400x as expensive per hour as an Amazon EC2 Machine\n",
    "- Many competitors keep prices low and offer flexibility\n",
    "\n",
    "\n",
    "\n",
    "\n",
    "## Cloud Computing Costs\n",
    "\n",
    "\n",
    "The figure shows the range of cloud costs (determined by peak usage) compared to a local workstation with utilization shown as the average number of hours the computer is used each week.\n",
    "\n"
   ]
  },
  {
   "cell_type": "markdown",
   "metadata": {
    "autoscroll": false,
    "collapsed": true,
    "slideshow": {
     "slide_type": "subslide"
    }
   },
   "source": [
    "```{r}\n",
    "res.table<-\n",
    "  ldply(c(3),function(life) {\n",
    "    timef<-seq(0,life*24*365,length.out=50)\n",
    "    data.frame(life=life*12,hours=timef,\n",
    "                      hoursPerWeek=timef/(life*52),\n",
    "                      WorstCaseCloud=cloudCost(timef,1),\n",
    "                      BestCaseCloud=cloudCost(timef,0),\n",
    "                      MiddleCaseCloud=cloudCost(timef,0.5),\n",
    "                      LocalWorkstation=localCost(timef))\n",
    "  })\n",
    "ggplot(res.table,\n",
    "       aes(x=hoursPerWeek))+\n",
    "  geom_line(aes(y=LocalWorkstation,color=\"Local Workstation\"),size=2)+\n",
    "  geom_errorbar(aes(ymin=WorstCaseCloud,ymax=BestCaseCloud,color=\"Cloud\"))+\n",
    "  labs(x=\"Average Computer Usage (hr/wk)\",y=\"Cost ($)\",color=\"Solution\")+\n",
    "  facet_wrap(~life)+\n",
    "  theme_bw(25)\n",
    "```"
   ]
  },
  {
   "cell_type": "markdown",
   "metadata": {
    "slideshow": {
     "slide_type": "subslide"
    }
   },
   "source": [
    "\n",
    "----\n",
    "\n",
    "The figure shows the cost of a cloud based solution as a percentage of the cost of buying a single machine. The values below 1 show the percentage as a number. The panels distinguish the average time to replacement for the machines in months\n",
    "\n"
   ]
  },
  {
   "cell_type": "markdown",
   "metadata": {
    "slideshow": {
     "slide_type": "slide"
    }
   },
   "source": [
    "\n",
    "## Cloud: Equal Cost Point\n",
    "<div class=\"columns-2\">\n",
    "\n",
    "Here the equal cost point is shown where the cloud and local workstations have the same cost. The x-axis is the percentage of resources used at peak-time and the y shows the expected usable lifetime of the computer. The color indicates the utilization percentage and the text on the squares shows this as the numbers of hours used in a week.\n",
    "\n",
    "\n"
   ]
  },
  {
   "cell_type": "markdown",
   "metadata": {
    "autoscroll": false,
    "collapsed": true,
    "slideshow": {
     "slide_type": "subslide"
    }
   },
   "source": [
    "```{r}\n",
    "scen.table<-ddply.cutcols(scen.table.raw,.(cut_interval(utility,25),\n",
    "                                           cut_interval(peak,5),\n",
    "                                           cut_interval(months,5)),cols=3,\n",
    "                          scen.fcn\n",
    "                                           )\n",
    "scen.table.sub<-ddply(scen.table,.(peak,months),function(c.pts) {\n",
    "  n.pts<-subset(c.pts,clcost<=wscost)\n",
    "  subset(n.pts,utility==max(n.pts$utility))\n",
    "})\n",
    "\n",
    "ggplot(scen.table.sub,aes(100*peak,months,fill=100*utility))+\n",
    "  geom_raster(alpha=0.65)+\n",
    "  geom_text(aes(label=round(utility*168)))+\n",
    "  labs(x=\"% Peak Time\",y=\"Computer Lifetime\\n(Months)\",fill=\"Utilization (%)\")+\n",
    "  scale_fill_gradientn(colours=rainbow(2))+\n",
    "  theme_bw(20)\n",
    "```"
   ]
  },
  {
   "cell_type": "markdown",
   "metadata": {
    "slideshow": {
     "slide_type": "slide"
    }
   },
   "source": [
    "</div>\n",
    "\n",
    "# Course Overview\n",
    "\n",
    "----\n"
   ]
  },
  {
   "cell_type": "code",
   "execution_count": null,
   "metadata": {
    "Rmd_chunk_options": "results='hide'",
    "autoscroll": false,
    "collapsed": true,
    "slideshow": {
     "slide_type": "fragment"
    }
   },
   "outputs": [],
   "source": [
    "import json\n",
    "course_df = pd.read_json('../common/schedule.json')\n",
    "course_df['Date'] = course_df['Lecture'].map(lambda x: x.split('-')[0])\n",
    "course_df['Title'] = course_df['Lecture'].map(lambda x: x.split('-')[-1])\n",
    "course_df[['Date', 'Title', 'Description']]"
   ]
  },
  {
   "cell_type": "markdown",
   "metadata": {
    "slideshow": {
     "slide_type": "slide"
    }
   },
   "source": [
    "\n",
    "## Overview: Segmentation\n",
    "\n"
   ]
  },
  {
   "cell_type": "code",
   "execution_count": null,
   "metadata": {
    "Rmd_chunk_options": "results='asis'",
    "autoscroll": false,
    "collapsed": true,
    "slideshow": {
     "slide_type": "fragment"
    }
   },
   "outputs": [],
   "source": [
    "course_df[['Title', 'Description', 'Applications']][3:5].T"
   ]
  },
  {
   "cell_type": "markdown",
   "metadata": {
    "slideshow": {
     "slide_type": "slide"
    }
   },
   "source": [
    "\n",
    "## Overview: Analysis\n",
    "\n"
   ]
  },
  {
   "cell_type": "code",
   "execution_count": null,
   "metadata": {
    "Rmd_chunk_options": "results='asis'",
    "autoscroll": false,
    "collapsed": true,
    "slideshow": {
     "slide_type": "fragment"
    }
   },
   "outputs": [],
   "source": [
    "course_df[['Title', 'Description', 'Applications']][5:8].T"
   ]
  },
  {
   "cell_type": "markdown",
   "metadata": {
    "slideshow": {
     "slide_type": "slide"
    }
   },
   "source": [
    "\n",
    "## Overview: Big Imaging\n",
    "\n"
   ]
  },
  {
   "cell_type": "code",
   "execution_count": null,
   "metadata": {
    "Rmd_chunk_options": "results='asis'",
    "autoscroll": false,
    "collapsed": true,
    "slideshow": {
     "slide_type": "fragment"
    }
   },
   "outputs": [],
   "source": [
    "course_df[['Title', 'Description', 'Applications']][8:11].T"
   ]
  },
  {
   "cell_type": "markdown",
   "metadata": {
    "slideshow": {
     "slide_type": "slide"
    }
   },
   "source": [
    "\n",
    "## Overview: Wrapping Up\n",
    "\n"
   ]
  },
  {
   "cell_type": "code",
   "execution_count": null,
   "metadata": {
    "Rmd_chunk_options": "results='asis'",
    "autoscroll": false,
    "collapsed": true,
    "slideshow": {
     "slide_type": "fragment"
    }
   },
   "outputs": [],
   "source": [
    "course_df[['Title', 'Description', 'Applications']][11:14].T"
   ]
  },
  {
   "cell_type": "markdown",
   "metadata": {
    "slideshow": {
     "slide_type": "slide"
    }
   },
   "source": [
    "\n",
    "# What is an image?\n",
    "\n",
    "----\n",
    "\n",
    "A very abstract definition: __A pairing between spatial information (position) and some other kind of information (value).__\n",
    "\n",
    "In most cases this is a 2 dimensional position (x,y coordinates) and a numeric value (intensity)\n",
    "\n"
   ]
  },
  {
   "cell_type": "code",
   "execution_count": null,
   "metadata": {
    "Rmd_chunk_options": "results='asis'",
    "autoscroll": false,
    "collapsed": true,
    "slideshow": {
     "slide_type": "subslide"
    }
   },
   "outputs": [],
   "source": [
    "basic_image = np.random.choice(range(100), size = (5,5))\n",
    "xx, yy = np.meshgrid(range(basic_image.shape[1]), range(basic_image.shape[0]))\n",
    "image_df = pd.DataFrame(dict(x = xx.ravel(),\n",
    "                 y = yy.ravel(),\n",
    "                 Intensity = basic_image.ravel()))\n",
    "image_df[['x', 'y', 'Intensity']].head(5)"
   ]
  },
  {
   "cell_type": "code",
   "execution_count": null,
   "metadata": {
    "Rmd_chunk_options": "fig.height=5",
    "autoscroll": false,
    "collapsed": true,
    "slideshow": {
     "slide_type": "subslide"
    }
   },
   "outputs": [],
   "source": [
    "plt.matshow(basic_image, cmap = 'viridis')\n",
    "plt.colorbar()"
   ]
  },
  {
   "cell_type": "markdown",
   "metadata": {
    "slideshow": {
     "slide_type": "slide"
    }
   },
   "source": [
    "\n",
    "## 2D Intensity Images\n",
    "<div class=\"columns-2\">\n",
    "The next step is to apply a color map (also called lookup table, LUT) to the image so it is a bit more exciting\n",
    "\n"
   ]
  },
  {
   "cell_type": "code",
   "execution_count": null,
   "metadata": {
    "Rmd_chunk_options": "fig.height=5",
    "autoscroll": false,
    "collapsed": true,
    "slideshow": {
     "slide_type": "subslide"
    }
   },
   "outputs": [],
   "source": [
    "fig, ax1 = plt.subplots(1,1)\n",
    "plot_image = ax1.matshow(basic_image, cmap = 'viridis')\n",
    "plt.colorbar(plot_image)\n",
    "\n",
    "for _, c_row in image_df.iterrows():\n",
    "    ax1.text(c_row['x'], c_row['y'], s = '%02d' % c_row['Intensity'], fontdict = dict(color = 'r'))"
   ]
  },
  {
   "cell_type": "markdown",
   "metadata": {
    "slideshow": {
     "slide_type": "subslide"
    }
   },
   "source": [
    "\n",
    "Which can be arbitrarily defined based on how we would like to visualize the information in the image\n",
    "\n",
    "\n"
   ]
  },
  {
   "cell_type": "code",
   "execution_count": null,
   "metadata": {
    "Rmd_chunk_options": "fig.height=5",
    "autoscroll": false,
    "collapsed": true,
    "slideshow": {
     "slide_type": "subslide"
    }
   },
   "outputs": [],
   "source": [
    "fig, ax1 = plt.subplots(1,1)\n",
    "plot_image = ax1.matshow(basic_image, cmap = 'jet')\n",
    "plt.colorbar(plot_image)"
   ]
  },
  {
   "cell_type": "code",
   "execution_count": null,
   "metadata": {
    "Rmd_chunk_options": "fig.height=5",
    "autoscroll": false,
    "collapsed": true,
    "slideshow": {
     "slide_type": "subslide"
    }
   },
   "outputs": [],
   "source": [
    "fig, ax1 = plt.subplots(1,1)\n",
    "\n",
    "plot_image = ax1.matshow(basic_image, cmap = 'hot')\n",
    "plt.colorbar(plot_image)"
   ]
  },
  {
   "cell_type": "markdown",
   "metadata": {
    "slideshow": {
     "slide_type": "slide"
    }
   },
   "source": [
    "</div>\n",
    "\n",
    "## Lookup Tables\n",
    "\n",
    "<div class=\"columns-2\">\n",
    "\n",
    "Formally a lookup table is a function which\n",
    "$$ f(\\textrm{Intensity}) \\rightarrow \\textrm{Color} $$\n",
    "\n",
    "\n"
   ]
  },
  {
   "cell_type": "markdown",
   "metadata": {
    "Rmd_chunk_options": "fig.height=5",
    "autoscroll": false,
    "collapsed": true,
    "slideshow": {
     "slide_type": "subslide"
    }
   },
   "source": [
    "```\n",
    "ggplot(basic.image,aes(x=Intensity,y=Intensity))+\n",
    "  geom_bar(aes(fill=Intensity),stat=\"identity\",position=\"dodge\",color=\"black\",width=2)+\n",
    "  scale_fill_gradientn(colours=rainbow(6))+\n",
    "  labs(y=\"Color\")+\n",
    "  theme_bw(20)+\n",
    "  theme(axis.ticks = element_blank(),\n",
    "        axis.text.y = element_blank())\n",
    "```"
   ]
  },
  {
   "cell_type": "markdown",
   "metadata": {
    "slideshow": {
     "slide_type": "slide"
    }
   },
   "source": [
    "\n",
    "\n",
    "These transformations can also be non-linear as is the case of the graph below where the mapping between the intensity and the color is a $\\log$ relationship meaning the the difference between the lower values is much clearer than the higher ones\n",
    "</div>\n",
    "\n",
    "## Applied LUTs\n",
    "\n",
    "<div class=\"columns-2\">\n",
    "\n",
    "\n"
   ]
  },
  {
   "cell_type": "markdown",
   "metadata": {
    "Rmd_chunk_options": "fig.height=5",
    "autoscroll": false,
    "collapsed": true,
    "slideshow": {
     "slide_type": "subslide"
    }
   },
   "source": [
    "```\n",
    "ggplot(basic.image,aes(x=Intensity,y=log(Intensity)))+\n",
    "  geom_bar(aes(fill=Intensity),stat=\"identity\",position=\"dodge\",color=\"black\",width=2)+\n",
    "  scale_fill_gradientn(colours=c(\"black\",\"red\",\"white\"),trans=\"log\")+\n",
    "  labs(y=\"Color\")+\n",
    "  theme_bw(20)+\n",
    "  theme(axis.ticks = element_blank(),\n",
    "        axis.text.y = element_blank())\n",
    "```"
   ]
  },
  {
   "cell_type": "markdown",
   "metadata": {
    "slideshow": {
     "slide_type": "fragment"
    }
   },
   "source": [
    "\n",
    "On a real image the difference is even clearer\n",
    "\n"
   ]
  },
  {
   "cell_type": "markdown",
   "metadata": {
    "Rmd_chunk_options": "fig.height=5",
    "autoscroll": false,
    "collapsed": true,
    "slideshow": {
     "slide_type": "subslide"
    }
   },
   "source": [
    "```\n",
    "bone.img<-t(readPNG(qbi.file(\"tiny-bone.png\")))\n",
    "attr(bone.img,\"type\")<-\"grey\"\n",
    "meas.img<-im.to.df(flip(gblur(bone.img,3)))\n",
    "both.img<-rbind(\n",
    "    cbind(mutate(meas.img,val=0.9*val+0.4),src=\"Normal\"),\n",
    "    cbind(mutate(meas.img,val=log10(40*val)),src=\"Log-transformed\")\n",
    ")\n",
    "ggplot(both.img,aes(x,y,fill=val))+\n",
    "  geom_tile()+\n",
    "  coord_equal()+\n",
    "  facet_wrap(~src)+\n",
    "  scale_fill_gradientn(colours=c(\"black\",\"red\",\"white\"))+\n",
    "  #guides(fill=F)+\n",
    "  labs(x=\"\",y=\"\")+\n",
    "  theme_bw(20)+\n",
    "  theme(axis.ticks = element_blank(),\n",
    "        axis.text.x = element_blank(),\n",
    "        axis.text.y = element_blank())\n",
    "```"
   ]
  },
  {
   "cell_type": "markdown",
   "metadata": {},
   "source": [
    "\n",
    "\n",
    "## 3D Images\n",
    "<div class=\"columns-2\">\n",
    "\n",
    "For a 3D image, the position or spatial component has a 3rd dimension (z if it is a spatial, or t if it is a movie)\n",
    "\n"
   ]
  },
  {
   "cell_type": "markdown",
   "metadata": {
    "Rmd_chunk_options": "results='asis'",
    "autoscroll": false,
    "collapsed": true
   },
   "source": [
    "```\n",
    "basic.image<-expand.grid(x=1:3,y=1:3,z=1:3)\n",
    "basic.image$Intensity<-round(runif(nrow(basic.image),0,100))\n",
    "kable(head(basic.image))\n",
    "```"
   ]
  },
  {
   "cell_type": "markdown",
   "metadata": {},
   "source": [
    "\n",
    "\n",
    "\n",
    "This can then be rearranged from a table form into an array form and displayed as a series of slices\n",
    "\n"
   ]
  },
  {
   "cell_type": "markdown",
   "metadata": {
    "Rmd_chunk_options": "fig.height=10",
    "autoscroll": false,
    "collapsed": true
   },
   "source": [
    "```\n",
    "ggplot(basic.image,aes(x,y))+\n",
    "  geom_tile(aes(fill=Intensity),color=\"black\",alpha=0.8)+\n",
    "  geom_text(aes(label=paste(\"(\",x,\",\",y,\",\",z,\")\\n\",Intensity)))+\n",
    "  facet_grid(z~.)+\n",
    "  guides(fill=F)+\n",
    "  scale_fill_gradientn(colours=rainbow(4))+\n",
    "  theme_bw(15)\n",
    "```"
   ]
  },
  {
   "cell_type": "markdown",
   "metadata": {},
   "source": [
    "</div>\n",
    "\n",
    "## Multiple Values\n",
    "<div class=\"columns-2\">\n",
    "\n",
    "In the images thus far, we have had one value per position, but there is no reason there cannot be multiple values. In fact this is what color images are (red, green, and blue) values and even 4 channels with transparency (alpha) as a different. For clarity we call the __dimensionality__ of the image the number of dimensions in the spatial position, and the __depth__ the number in the value.\n",
    "\n"
   ]
  },
  {
   "cell_type": "markdown",
   "metadata": {
    "Rmd_chunk_options": "results='asis'",
    "autoscroll": false,
    "collapsed": true
   },
   "source": [
    "```\n",
    "basic.image<-expand.grid(x=1:5,y=1:5)\n",
    "basic.image$Intensity<-round(runif(nrow(basic.image),0,100))\n",
    "basic.image$Transparency<-round(runif(nrow(basic.image),0,100))\n",
    "kable(head(basic.image))\n",
    "```"
   ]
  },
  {
   "cell_type": "markdown",
   "metadata": {},
   "source": [
    "\n",
    "This can then be rearranged from a table form into an array form and displayed as a series of slices\n",
    "\n"
   ]
  },
  {
   "cell_type": "markdown",
   "metadata": {
    "Rmd_chunk_options": "fig.height=8, fig.width = 6",
    "autoscroll": false,
    "collapsed": true,
    "slideshow": {
     "slide_type": "subslide"
    }
   },
   "source": [
    "```\n",
    "ggplot(basic.image,aes(x,y))+\n",
    "  geom_tile(aes(fill=Intensity,alpha=Transparency),color=\"black\")+\n",
    "  geom_text(aes(\n",
    "    label=paste(\"(\",x,\",\",y,\")\\n\",\"I:\",Intensity,\"\\nT:\",Transparency)\n",
    "    ))+\n",
    "  scale_fill_gradientn(colours=rainbow(4))+\n",
    "  theme_bw(15)\n",
    "```"
   ]
  },
  {
   "cell_type": "markdown",
   "metadata": {
    "slideshow": {
     "slide_type": "slide"
    }
   },
   "source": [
    "</div>\n",
    "\n",
    "## Hyperspectral Imaging\n",
    "\n",
    "<div class=\"columns-2\">\n",
    "\n",
    "At each point in the image (black dot), instead of having just a single value, there is an entire spectrum. A selected group of these (red dots) are shown to illustrate the variations inside the sample. While certainly much more complicated, this still constitutes and image and requires the same sort of techniques to process correctly.\n",
    "\n"
   ]
  },
  {
   "cell_type": "markdown",
   "metadata": {
    "Rmd_chunk_options": "load_hypermap",
    "autoscroll": false,
    "collapsed": true,
    "slideshow": {
     "slide_type": "subslide"
    }
   },
   "source": [
    "```\n",
    "hyper.path<-qbi.data\n",
    "map.img<-t(jpeg::readJPEG(hyper.path(\"raw.jpg\"))[,,3]+jpeg::readJPEG(hyper.path(\"raw.jpg\"))[,,1])#,1,rev)\n",
    "map.df<-im.to.df(map.img)\n",
    "impos<-read.table(hyper.path(\"impos.csv\"),sep=\",\")\n",
    "names(impos)<-c(\"x\",\"y\")\n",
    "ggplot(map.df,aes(x,y))+\n",
    "  geom_raster(aes(fill=val))+\n",
    "  #geom_tile(data=impos,fill=\"red\",alpha=0.5)+\n",
    "  geom_point(data=impos,alpha=0.7)+\n",
    "  geom_point(data=subset(impos, abs(x-252)<20 & abs(y-293)<20),color=\"red\")+\n",
    "  labs(fill=\"White Field\\nIntensity\")+\n",
    "  xlim(min(impos$x),max(impos$x))+\n",
    "  ylim(min(impos$y),max(impos$y))+\n",
    "  coord_equal()+\n",
    "  theme_bw(20)#,aes(fill=\"Scanned\"))\n",
    "```"
   ]
  },
  {
   "cell_type": "markdown",
   "metadata": {
    "slideshow": {
     "slide_type": "skip"
    }
   },
   "source": [
    "\n",
    "</div>\n",
    "\n",
    "----\n",
    "\n"
   ]
  },
  {
   "cell_type": "markdown",
   "metadata": {
    "autoscroll": false,
    "collapsed": true,
    "slideshow": {
     "slide_type": "skip"
    }
   },
   "source": [
    "```\n",
    "full.df<-read.csv(hyper.path(\"full_img.csv\"))\n",
    "full.df<-subset(full.df,wavenum<2500)\n",
    "ggplot(\n",
    "  subset(full.df, abs(x-252)<20 & abs(y-293)<20),aes(wavenum,val)\n",
    "  )+\n",
    "  geom_line()+\n",
    "  facet_grid(x~y)+\n",
    "  labs(x=expression(paste(\"Wavenumber (\",cm^-1,\")\",sep=\"\")),y=\"Intensity (au)\")+\n",
    "  theme_bw(10)\n",
    "```"
   ]
  },
  {
   "cell_type": "markdown",
   "metadata": {
    "slideshow": {
     "slide_type": "slide"
    }
   },
   "source": [
    "\n",
    "\n",
    "\n",
    "# Image Formation\n",
    "\n",
    "----\n",
    "\n",
    "![Traditional Imaging](../common/figures/image-formation.png)\n",
    "\n",
    "- __Impulses__ Light, X-Rays, Electrons, A sharp point, Magnetic field, Sound wave\n",
    "- __Characteristics__ Electron Shell Levels, Electron Density, Phonons energy levels, Electronic, Spins, Molecular mobility\n",
    "- __Response__ Absorption, Reflection, Phase Shift, Scattering, Emission\n",
    "- __Detection__ Your eye, Light sensitive film, CCD / CMOS, Scintillator, Transducer\n",
    "\n",
    "## Where do images come from?\n",
    "\n"
   ]
  },
  {
   "cell_type": "code",
   "execution_count": null,
   "metadata": {
    "Rmd_chunk_options": "results='asis'",
    "autoscroll": false,
    "collapsed": true,
    "slideshow": {
     "slide_type": "subslide"
    }
   },
   "outputs": [],
   "source": [
    "import pandas as pd\n",
    "from io import StringIO\n",
    "\n",
    "pd.read_table(StringIO(\"\"\"Modality\\tImpulse\tCharacteristic\tResponse\tDetection\n",
    "Light Microscopy\tWhite Light\tElectronic interactions\tAbsorption\tFilm, Camera\n",
    "Phase Contrast\tCoherent light\tElectron Density (Index of Refraction)\tPhase Shift\tPhase stepping, holography, Zernike\n",
    "Confocal Microscopy\tLaser Light\tElectronic Transition in Fluorescence Molecule\tAbsorption and reemission\tPinhole in focal plane, scanning detection\n",
    "X-Ray Radiography\tX-Ray light\tPhoto effect and Compton scattering\tAbsorption and scattering\tScintillator, microscope, camera\n",
    "Ultrasound\tHigh frequency sound waves\tMolecular mobility\tReflection and Scattering\tTransducer\n",
    "MRI\tRadio-frequency EM\tUnmatched Hydrogen spins\tAbsorption and reemission\tRF coils to detect\n",
    "Atomic Force Microscopy\tSharp Point\tSurface Contact\tContact, Repulsion\tDeflection of a tiny mirror\"\"\"))"
   ]
  },
  {
   "cell_type": "markdown",
   "metadata": {
    "slideshow": {
     "slide_type": "slide"
    }
   },
   "source": [
    "\n",
    "# Acquiring Images\n",
    "\n",
    "## Traditional / Direct imaging\n",
    "- Visible images produced or can be easily made visible\n",
    "- Optical imaging, microscopy\n",
    "\n"
   ]
  },
  {
   "cell_type": "markdown",
   "metadata": {
    "Rmd_chunk_options": "fig.cap=\" here the measurement is supposed to be from a typical microscope which blurs, flips and otherwise distorts the image but the original representation is still visible\"",
    "autoscroll": false,
    "collapsed": true,
    "slideshow": {
     "slide_type": "subslide"
    }
   },
   "source": [
    "```\n",
    "bone.img<-t(readPNG(qbi.file(\"tiny-bone.png\")))\n",
    "attr(bone.img,\"type\")<-\"grey\"\n",
    "meas.img<-im.to.df(flip(gblur(bone.img,3)))\n",
    "both.img<-rbind(\n",
    "  cbind(meas.img,src=\"Measured\"),\n",
    "  cbind(im.to.df(bone.img),src=\"Reconstructed\")\n",
    "  )\n",
    "ggplot(both.img,aes(x,y,fill=val))+\n",
    "  geom_tile()+\n",
    "  coord_equal()+\n",
    "  facet_wrap(~src)+\n",
    "  th_fillmap.fn(2)+\n",
    "  guides(fill=F)+\n",
    "  labs(x=\"\",y=\"\")+\n",
    "  theme_bw(20)+\n",
    "  theme(axis.ticks = element_blank(),\n",
    "        axis.text.x = element_blank(),\n",
    "        axis.text.y = element_blank())\n",
    "```"
   ]
  },
  {
   "cell_type": "markdown",
   "metadata": {
    "slideshow": {
     "slide_type": "slide"
    }
   },
   "source": [
    "\n",
    "\n",
    "\n",
    "## Indirect / Computational imaging\n",
    "- Recorded information does not resemble object\n",
    "- Response must be transformed (usually computationally) to produce an image\n",
    "\n"
   ]
  },
  {
   "cell_type": "markdown",
   "metadata": {
    "Rmd_chunk_options": "fig.cap=\"here the measurement is supposed to be from a diffraction style experiment where the data is measured in reciprocal space (fourier) and can be reconstructed to the original shape\"",
    "autoscroll": false,
    "collapsed": true,
    "slideshow": {
     "slide_type": "subslide"
    }
   },
   "source": [
    "```\n",
    "fftshift2<-function (y)\n",
    "{\n",
    "    nx = nrow(y)\n",
    "    nx2 = floor(nx/2)\n",
    "    ny = ncol(y)\n",
    "    ny2 = floor(ny/2)\n",
    "    y[c((nx2+1):nx,1:nx2),c((ny2+1):ny,1:ny2)]\n",
    "}\n",
    "scat.img<-im.to.df(abs(fftshift2(fft(bone.img))))\n",
    "scat.img<-mutate(scat.img,val=log(val)/3.5)\n",
    "both.img<-rbind(\n",
    "  cbind(scat.img,src=\"Measured\"),\n",
    "  cbind(im.to.df(bone.img),src=\"Reconstructed\")\n",
    "  )\n",
    "ggplot(both.img,aes(x,y,fill=val))+\n",
    "  geom_tile()+\n",
    "  coord_equal()+\n",
    "  facet_wrap(~src)+\n",
    "  th_fillmap.fn(2)+\n",
    "  guides(fill=F)+\n",
    "  labs(x=\"\",y=\"\")+\n",
    "  theme_bw(20)+\n",
    "  theme(axis.ticks = element_blank(),\n",
    "        axis.text.x = element_blank(),\n",
    "        axis.text.y = element_blank())\n",
    "```"
   ]
  },
  {
   "cell_type": "markdown",
   "metadata": {
    "slideshow": {
     "slide_type": "slide"
    }
   },
   "source": [
    "## Traditional Imaging\n",
    "\n",
    "\n",
    "![Traditional Imaging](../common/figures/traditional-imaging.png)\n",
    "\n",
    "\n",
    "<small>\n",
    "Copyright 2003-2013 J. Konrad in EC520 lecture, reused with permission\n",
    "</small>"
   ]
  },
  {
   "cell_type": "markdown",
   "metadata": {
    "slideshow": {
     "slide_type": "slide"
    }
   },
   "source": [
    "## Traditional Imaging: Model\n",
    "\n",
    "\n",
    "![Traditional Imaging Model](../common/figures/traditional-image-flow.png)\n",
    "\n",
    "$$\n",
    "\\left[\\left([b(x,y)*s_{ab}(x,y)]\\otimes h_{fs}(x,y)\\right)*h_{op}(x,y)\\right]*h_{det}(x,y)+d_{dark}(x,y)\n",
    "$$\n",
    "\n",
    "$s_{ab}$ is the only information you are really interested in, so it is important to remove or correct for the other components\n",
    "\n",
    "For color (non-monochromatic) images the problem becomes even more complicated\n",
    "$$\n",
    "\\int_{0}^{\\infty} {\\left[\\left([b(x,y,\\lambda)*s_{ab}(x,y,\\lambda)]\\otimes h_{fs}(x,y,\\lambda)\\right)*h_{op}(x,y,\\lambda)\\right]*h_{det}(x,y,\\lambda)}\\mathrm{d}\\lambda+d_{dark}(x,y)\n",
    "$$"
   ]
  },
  {
   "cell_type": "markdown",
   "metadata": {
    "slideshow": {
     "slide_type": "subslide"
    }
   },
   "source": [
    "## Indirect Imaging (Computational Imaging)\n",
    "\n",
    "- Tomography through projections\n",
    "- Microlenses (Light-field photography)\n",
    "\n",
    "<video controls>\n",
    "  <source src=\"../common/movies/lightfield.mp4\" type=\"video/mp4\">\n",
    "Your browser does not support the video tag.\n",
    "</video>\n",
    "\n",
    "\n",
    "- Diffraction patterns\n",
    "- Hyperspectral imaging with Raman, IR, CARS\n",
    "- Surface Topography with cantilevers (AFM)\n",
    "\n",
    "![Suface Topography](../common/figures/surface-plot.png)"
   ]
  },
  {
   "cell_type": "markdown",
   "metadata": {
    "slideshow": {
     "slide_type": "slide"
    }
   },
   "source": [
    "## Image Analysis\n",
    "\n",
    "\n",
    "![Approaches](../common/figures/approaches.png)\n",
    "\n",
    "\n",
    "- An image is a bucket of pixels.\n",
    "- How you choose to turn it into useful information is strongly dependent on your background"
   ]
  },
  {
   "cell_type": "markdown",
   "metadata": {
    "slideshow": {
     "slide_type": "slide"
    }
   },
   "source": [
    "## Image Analysis: Experimentalist\n",
    "\n",
    "\n",
    "![Approaches](../common/figures/approaches.png)\n",
    "\n",
    "\n",
    "### Problem-driven\n",
    "### Top-down\n",
    "### _Reality_ Model-based\n",
    "\n",
    "### Examples\n",
    "\n",
    "- cell counting\n",
    "- porosity"
   ]
  },
  {
   "cell_type": "markdown",
   "metadata": {
    "slideshow": {
     "slide_type": "subslide"
    }
   },
   "source": [
    "## Image Analysis: Computer Vision Approaches\n",
    "\n",
    "\n",
    "![Approaches](../common/figures/approaches.png)\n",
    "\n",
    "\n",
    "- Method-driven\n",
    " - Feature-based\n",
    " - _Image_ Model-based\n",
    "- Engineer features for solving problems\n",
    "\n",
    "### Examples\n",
    "\n",
    "- edge detection\n",
    "- face detection\n"
   ]
  },
  {
   "cell_type": "markdown",
   "metadata": {
    "slideshow": {
     "slide_type": "subslide"
    }
   },
   "source": [
    "## Image Analysis: Deep Learning Approach\n",
    "\n",
    "\n",
    "![Approaches](../common/figures/approaches.png)\n",
    "\n",
    "\n",
    "- Results-driven\n",
    "- Biology ‘inspired’\n",
    "- Build both image processing and analysis from scratch\n",
    "\n",
    "### Examples\n",
    "\n",
    "- Captioning images\n",
    "- Identifying unusual events\n"
   ]
  },
  {
   "cell_type": "markdown",
   "metadata": {
    "slideshow": {
     "slide_type": "slide"
    }
   },
   "source": [
    "# On Science\n",
    "\n",
    "## What is the purpose?\n",
    "\n",
    "\n",
    "- Discover and validate new knowledge\n",
    "\n",
    "### How?\n",
    "- Use the scientific method as an approach to convince other people\n",
    "- Build on the results of others so we don't start from the beginning\n",
    "\n",
    "### Important Points\n",
    "- While qualitative assessment is important, it is difficult to reliably produce and scale\n",
    " - __Quantitative__ analysis is far from perfect, but provides metrics which can be compared and regenerated by anyone\n",
    "\n",
    "<small>Inspired by: [imagej-pres](http://www.slideshare.net/CurtisRueden/imagej-and-the-scijava-software-stack)</small>"
   ]
  },
  {
   "cell_type": "markdown",
   "metadata": {
    "slideshow": {
     "slide_type": "slide"
    }
   },
   "source": [
    "## Science and Imaging\n",
    "\n",
    "### Images are great for qualitative analyses since our brains can quickly interpret them without large _programming_ investements.\n",
    "### Proper processing and quantitative analysis is however much more difficult with images.\n",
    " - If you measure a temperature, quantitative analysis is easy, $50K$.\n",
    " - If you measure an image it is much more difficult and much more prone to mistakes, subtle setup variations, and confusing analyses\n",
    "\n",
    "\n",
    "### Furthermore in image processing there is a plethora of tools available\n",
    "\n",
    "- Thousands of algorithms available\n",
    "- Thousands of tools\n",
    "- Many images require multi-step processing\n",
    "- Experimenting is time-consuming"
   ]
  },
  {
   "cell_type": "markdown",
   "metadata": {
    "slideshow": {
     "slide_type": "slide"
    }
   },
   "source": [
    "## Why quantitative?\n",
    "\n",
    "### Human eyes have issues\n",
    "\n",
    "Which center square seems brighter?"
   ]
  },
  {
   "cell_type": "code",
   "execution_count": null,
   "metadata": {
    "Rmd_chunk_options": "fig.align='center'",
    "autoscroll": false,
    "collapsed": true,
    "slideshow": {
     "slide_type": "subslide"
    }
   },
   "outputs": [],
   "source": [
    "%matplotlib inline\n",
    "import matplotlib.pyplot as plt\n",
    "import numpy as np\n",
    "xlin = np.linspace(-1,1, 3)\n",
    "xx, yy = np.meshgrid(xlin, xlin)\n",
    "img_a = 25*np.ones((3,3))\n",
    "img_b = np.ones((3,3))*75\n",
    "img_a[1,1] = 50\n",
    "img_b[1,1] = 50\n",
    "fig, (ax1, ax2) = plt.subplots(1,2, figsize = (6, 3))\n",
    "ax1.matshow(img_a, vmin = 0, vmax = 100, cmap = 'bone')\n",
    "ax2.matshow(img_b, vmin = 0, vmax = 100, cmap = 'bone')"
   ]
  },
  {
   "cell_type": "markdown",
   "metadata": {
    "slideshow": {
     "slide_type": "subslide"
    }
   },
   "source": [
    "\n",
    "----\n",
    "Are the intensities constant in the image?\n",
    "\n"
   ]
  },
  {
   "cell_type": "code",
   "execution_count": null,
   "metadata": {
    "autoscroll": false,
    "collapsed": true,
    "slideshow": {
     "slide_type": "fragment"
    }
   },
   "outputs": [],
   "source": [
    "%matplotlib inline\n",
    "import matplotlib.pyplot as plt\n",
    "import numpy as np\n",
    "xlin = np.linspace(-1,1, 10)\n",
    "xx, yy = np.meshgrid(xlin, xlin)\n",
    "\n",
    "fig, ax1 = plt.subplots(1,1, figsize = (6, 6))\n",
    "ax1.matshow(xx, vmin = -1, vmax = 1, cmap = 'bone')"
   ]
  },
  {
   "cell_type": "markdown",
   "metadata": {
    "slideshow": {
     "slide_type": "slide"
    }
   },
   "source": [
    "## Reproducibility\n",
    "\n",
    "Science demands __repeatability__! and really wants __reproducability__\n",
    "- Experimental conditions can change rapidly and are difficult to make consistent\n",
    "- Animal and human studies are prohibitively time consuming and expensive to reproduce\n",
    "- Terabyte datasets cannot be easily passed around many different groups\n",
    "- Privacy concerns can also limit sharing and access to data\n",
    "\n",
    "----\n",
    "\n",
    "- _Science_ is already difficult enough\n",
    "- Image processing makes it even more complicated\n",
    "- Many image processing tasks are multistep, have many parameters, use a variety of tools, and consume a very long time\n",
    "\n",
    "### How can we keep track of everything for ourselves and others?\n",
    "- We can make the data analysis easy to repeat by an independent 3rd party"
   ]
  },
  {
   "cell_type": "markdown",
   "metadata": {},
   "source": [
    "# Soup/Recipe Example\n",
    "\n",
    "## Simple Soup\n",
    "Easy to follow the list, anyone with the right steps can execute and repeat (if not reproduce) the soup\n",
    "\n",
    "\n",
    "1. Buy {carrots, peas, tomatoes} at market\n",
    "1. _then_ Buy meat at butcher\n",
    "1. _then_ Chop carrots into pieces\n",
    "1. _then_ Chop potatos into pieces\n",
    "1. _then_ Heat water\n",
    "1. _then_ Wait until boiling then add chopped vegetables\n",
    "1. _then_ Wait 5 minutes and add meat\n",
    "\n",
    "\n",
    "\n",
    "## More complicated soup\n",
    "Here it is harder to follow and you need to carefully keep track of what is being performed\n",
    "\n",
    "### Steps 1-4\n",
    "4. _then_ Mix carrots with potatos $\\rightarrow  mix_1$\n",
    "4. _then_ add egg to $mix_1$ and fry for 20 minutes\n",
    "4. _then_ Tenderize meat for 20 minutes\n",
    "4. _then_ add tomatoes to meat and cook for 10 minutes $\\rightarrow mix_2$\n",
    "5. _then_ Wait until boiling then add $mix_1$\n",
    "6. _then_ Wait 5 minutes and add $mix_2$"
   ]
  },
  {
   "cell_type": "markdown",
   "metadata": {
    "slideshow": {
     "slide_type": "slide"
    }
   },
   "source": [
    "# Using flow charts / workflows\n",
    "\n",
    "## Simple Soup"
   ]
  },
  {
   "cell_type": "code",
   "execution_count": null,
   "metadata": {
    "collapsed": true,
    "slideshow": {
     "slide_type": "subslide"
    }
   },
   "outputs": [],
   "source": [
    "from IPython.display import SVG\n",
    "import pydot\n",
    "graph = pydot.Dot(graph_type='digraph')\n",
    "node_names = [\"Buy\\nvegetables\",\"Buy meat\",\"Chop\\nvegetables\",\"Heat water\", \"Add Vegetables\",\n",
    "              \"Wait for\\nboiling\",\"Wait 5\\nadd meat\"]\n",
    "nodes = [pydot.Node(name = '%04d' % i, label = c_n) \n",
    "         for i, c_n in enumerate(node_names)]\n",
    "for c_n in nodes:\n",
    "    graph.add_node(c_n)\n",
    "    \n",
    "for (c_n, d_n) in zip(nodes, nodes[1:]):\n",
    "    graph.add_edge(pydot.Edge(c_n, d_n))\n",
    "\n",
    "SVG(graph.create_svg())"
   ]
  },
  {
   "cell_type": "markdown",
   "metadata": {},
   "source": [
    "\n",
    "## Workflows\n",
    "\n",
    "Clearly a linear set of instructions is ill-suited for even a fairly easy soup, it is then even more difficult when there are dozens of steps and different pathsways\n",
    "\n",
    "\n",
    "----\n",
    "\n",
    "Furthermore a clean workflow allows you to better parallelize the task since it is clear which tasks can be performed independently\n",
    "\n"
   ]
  },
  {
   "cell_type": "code",
   "execution_count": null,
   "metadata": {
    "Rmd_chunk_options": "fig.height=9",
    "autoscroll": false,
    "collapsed": true
   },
   "outputs": [],
   "source": [
    "from IPython.display import SVG\n",
    "import pydot\n",
    "graph = pydot.Dot(graph_type='digraph')\n",
    "node_names = [\"Buy\\nvegetables\",\"Buy meat\",\"Chop\\nvegetables\",\"Heat water\", \"Add Vegetables\",\n",
    "              \"Wait for\\nboiling\",\"Wait 5\\nadd meat\"]\n",
    "nodes = [pydot.Node(name = '%04d' % i, label = c_n, style = 'filled') \n",
    "         for i, c_n in enumerate(node_names)]\n",
    "for c_n in nodes:\n",
    "    graph.add_node(c_n)\n",
    "    \n",
    "def e(i,j, col = None):\n",
    "    if col is not None:\n",
    "        for c in [i,j]:\n",
    "            if nodes[c].get_fillcolor() is None: \n",
    "                nodes[c].set_fillcolor(col)\n",
    "    graph.add_edge(pydot.Edge(nodes[i], nodes[j]))\n",
    "\n",
    "e(0, 2, 'red')\n",
    "e(2, 4)\n",
    "e(3, -2, 'yellow')\n",
    "e(-2, 4, 'orange')\n",
    "e(4, -1)\n",
    "e(1, -1, 'green')\n",
    "\n",
    "\n",
    "SVG(graph.create_svg())"
   ]
  },
  {
   "cell_type": "markdown",
   "metadata": {
    "slideshow": {
     "slide_type": "slide"
    }
   },
   "source": [
    "\n",
    "# Directed Acyclical Graphs (DAG)\n",
    "We can represent almost any computation without loops as DAG. What this allows us to do is now break down a computation into pieces which can be carried out independently. There are a number of tools which let us handle this issue.\n",
    "\n",
    "- PyData Dask - https://dask.pydata.org/en/latest/\n",
    "- Apache Spark - https://spark.apache.org/\n",
    "- Spotify Luigi - https://github.com/spotify/luigi\n",
    "- Airflow - https://airflow.apache.org/\n",
    "- KNIME - https://www.knime.com/\n",
    "- Google Tensorflow - https://www.tensorflow.org/\n",
    "- Pytorch / Torch - http://pytorch.org/"
   ]
  },
  {
   "cell_type": "markdown",
   "metadata": {
    "slideshow": {
     "slide_type": "slide"
    }
   },
   "source": [
    "# Concrete example\n",
    "What is a dag good for?"
   ]
  },
  {
   "cell_type": "code",
   "execution_count": null,
   "metadata": {
    "collapsed": true,
    "scrolled": false,
    "slideshow": {
     "slide_type": "subslide"
    }
   },
   "outputs": [],
   "source": [
    "import dask.array as da\n",
    "from dask.dot import dot_graph\n",
    "image_1 = da.zeros((5,5), chunks = (5,5))\n",
    "image_2 = da.ones((5,5), chunks = (5,5))\n",
    "dot_graph(image_1.dask)"
   ]
  },
  {
   "cell_type": "code",
   "execution_count": null,
   "metadata": {
    "collapsed": true,
    "slideshow": {
     "slide_type": "subslide"
    }
   },
   "outputs": [],
   "source": [
    "image_3 = image_1 + image_2\n",
    "dot_graph(image_3.dask)"
   ]
  },
  {
   "cell_type": "code",
   "execution_count": null,
   "metadata": {
    "collapsed": true,
    "slideshow": {
     "slide_type": "subslide"
    }
   },
   "outputs": [],
   "source": [
    "image_4 = (image_1-10) + (image_2*50)\n",
    "dot_graph(image_4.dask)"
   ]
  },
  {
   "cell_type": "markdown",
   "metadata": {
    "slideshow": {
     "slide_type": "slide"
    }
   },
   "source": [
    "# Let's go big\n",
    "Now let's see where this can be really useful"
   ]
  },
  {
   "cell_type": "code",
   "execution_count": null,
   "metadata": {
    "collapsed": true
   },
   "outputs": [],
   "source": [
    "import dask.array as da\n",
    "from dask.dot import dot_graph\n",
    "image_1 = da.zeros((1024, 1024), chunks = (512, 512))\n",
    "image_2 = da.ones((1024 ,1024), chunks = (512, 512))\n",
    "dot_graph(image_1.dask)"
   ]
  },
  {
   "cell_type": "code",
   "execution_count": null,
   "metadata": {
    "collapsed": true
   },
   "outputs": [],
   "source": [
    "image_4 = (image_1-10) + (image_2*50)\n",
    "dot_graph(image_4.dask)"
   ]
  },
  {
   "cell_type": "code",
   "execution_count": null,
   "metadata": {
    "collapsed": true
   },
   "outputs": [],
   "source": [
    "image_5 = da.matmul(image_1, image_2)\n",
    "dot_graph(image_5.dask)"
   ]
  },
  {
   "cell_type": "code",
   "execution_count": null,
   "metadata": {
    "collapsed": true
   },
   "outputs": [],
   "source": [
    "image_6 = (da.matmul(image_1, image_2)+image_1)*image_2\n",
    "dot_graph(image_6.dask)"
   ]
  },
  {
   "cell_type": "code",
   "execution_count": null,
   "metadata": {
    "collapsed": true
   },
   "outputs": [],
   "source": [
    "import dask_ndfilters as da_ndfilt\n",
    "image_7 = da_ndfilt.convolve(image_6, image_1)\n",
    "dot_graph(image_7.dask)"
   ]
  },
  {
   "cell_type": "markdown",
   "metadata": {
    "slideshow": {
     "slide_type": "slide"
    }
   },
   "source": [
    "# Deep Learning\n",
    "We won't talk too much about deep learning now, but it certainly shows why DAGs are so important. The steps above are simple toys compared to what tools are already in use for machine learning"
   ]
  },
  {
   "cell_type": "code",
   "execution_count": null,
   "metadata": {
    "collapsed": true,
    "slideshow": {
     "slide_type": "subslide"
    }
   },
   "outputs": [],
   "source": [
    "from IPython.display import SVG\n",
    "from keras.applications.resnet50 import ResNet50\n",
    "from keras.utils.vis_utils import model_to_dot \n",
    "resnet = ResNet50(weights = None)\n",
    "SVG(model_to_dot(resnet).create_svg())"
   ]
  },
  {
   "cell_type": "code",
   "execution_count": null,
   "metadata": {
    "collapsed": true,
    "slideshow": {
     "slide_type": "slide"
    }
   },
   "outputs": [],
   "source": [
    "from IPython.display import clear_output, Image, display, HTML\n",
    "import keras.backend as K\n",
    "import tensorflow as tf\n",
    "def strip_consts(graph_def, max_const_size=32):\n",
    "    \"\"\"Strip large constant values from graph_def.\"\"\"\n",
    "    strip_def = tf.GraphDef()\n",
    "    for n0 in graph_def.node:\n",
    "        n = strip_def.node.add() \n",
    "        n.MergeFrom(n0)\n",
    "        if n.op == 'Const':\n",
    "            tensor = n.attr['value'].tensor\n",
    "            size = len(tensor.tensor_content)\n",
    "            if size > max_const_size:\n",
    "                tensor.tensor_content = (\"<stripped %d bytes>\"%size).encode('ascii')\n",
    "    return strip_def\n",
    "\n",
    "def show_graph(graph_def, max_const_size=32):\n",
    "    \"\"\"Visualize TensorFlow graph.\"\"\"\n",
    "    if hasattr(graph_def, 'as_graph_def'):\n",
    "        graph_def = graph_def.as_graph_def()\n",
    "    strip_def = strip_consts(graph_def, max_const_size=max_const_size)\n",
    "    code = \"\"\"\n",
    "        <script>\n",
    "          function load() {{\n",
    "            document.getElementById(\"{id}\").pbtxt = {data};\n",
    "          }}\n",
    "        </script>\n",
    "        <link rel=\"import\" href=\"https://tensorboard.appspot.com/tf-graph-basic.build.html\" onload=load()>\n",
    "        <div style=\"height:600px\">\n",
    "          <tf-graph-basic id=\"{id}\"></tf-graph-basic>\n",
    "        </div>\n",
    "    \"\"\".format(data=repr(str(strip_def)), id='graph'+str(np.random.rand()))\n",
    "\n",
    "    iframe = \"\"\"\n",
    "        <iframe seamless style=\"width:1200px;height:620px;border:0\" srcdoc=\"{}\"></iframe>\n",
    "    \"\"\".format(code.replace('\"', '&quot;'))\n",
    "    display(HTML(iframe))\n",
    "sess = K.get_session()\n",
    "show_graph(sess.graph)"
   ]
  },
  {
   "cell_type": "code",
   "execution_count": null,
   "metadata": {
    "collapsed": true
   },
   "outputs": [],
   "source": []
  }
 ],
 "metadata": {
  "celltoolbar": "Slideshow",
  "kernelspec": {
   "display_name": "Python [default]",
   "language": "python",
   "name": "python3"
  },
  "language_info": {
   "codemirror_mode": {
    "name": "ipython",
    "version": 3
   },
   "file_extension": ".py",
   "mimetype": "text/x-python",
   "name": "python",
   "nbconvert_exporter": "python",
   "pygments_lexer": "ipython3",
   "version": "3.5.3"
  },
  "livereveal": {
   "autolaunch": true,
   "scroll": true
  }
 },
 "nbformat": 4,
 "nbformat_minor": 1
}
